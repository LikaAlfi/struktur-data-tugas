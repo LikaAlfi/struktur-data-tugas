{
  "nbformat": 4,
  "nbformat_minor": 0,
  "metadata": {
    "colab": {
      "provenance": [],
      "authorship_tag": "ABX9TyPvqgKp2bwCbg6pxTW0nTI9",
      "include_colab_link": true
    },
    "kernelspec": {
      "name": "python3",
      "display_name": "Python 3"
    },
    "language_info": {
      "name": "python"
    }
  },
  "cells": [
    {
      "cell_type": "markdown",
      "metadata": {
        "id": "view-in-github",
        "colab_type": "text"
      },
      "source": [
        "<a href=\"https://colab.research.google.com/github/LikaAlfi/struktur-data-tugas/blob/main/strukturdatatugas1.ipynb\" target=\"_parent\"><img src=\"https://colab.research.google.com/assets/colab-badge.svg\" alt=\"Open In Colab\"/></a>"
      ]
    },
    {
      "cell_type": "code",
      "execution_count": 5,
      "metadata": {
        "id": "MWJOWGdE8gA4",
        "colab": {
          "base_uri": "https://localhost:8080/"
        },
        "outputId": "f83b04b2-edb6-4d32-effa-fbb4602feac0"
      },
      "outputs": [
        {
          "output_type": "stream",
          "name": "stdout",
          "text": [
            "Masukkan ukuran peta: 5\n",
            "\n",
            "Harta karun telah disembunyikan@! Sekarang giliran pemain menebak.\n",
            "Cobalah unyuk menemukan harta karun dengan menembak indeks yang benar.\n",
            "\n",
            "Peta saat ini:  ['_', '_', '_', '_', '_']\n",
            "Masukkan indeks tebakanmu (0-(size-1)): 5\n",
            "Indeks tidak valid, pilih antara 0 hingga 4\n",
            "\n",
            "Peta saat ini:  ['_', '_', '_', '_', '_']\n",
            "Masukkan indeks tebakanmu (0-(size-1)): 2\n",
            "Tidak ada harta di lpkasi ini. Coba lagi!\n",
            "\n",
            "Peta saat ini:  ['_', '_', '_', '_', '_']\n",
            "Masukkan indeks tebakanmu (0-(size-1)): 1\n",
            "Selamat! Kamu menemukan harta jarun di lokasi: 1\n",
            "Terima kasih sudah bermain!\n"
          ]
        }
      ],
      "source": [
        "# Kode yang sudah dimodifikasi\n",
        "\n",
        "import random\n",
        "\n",
        "# Ukuran peta\n",
        "size = int (input(\"Masukkan ukuran peta: \"))\n",
        "\n",
        "# Membuat peta dengan harta karun tersembunyi\n",
        "treasure_map = [\"_\" for _ in range(size)]\n",
        "\n",
        "# Mengacak lokasi harta karun tersembunyi\n",
        "treasure_index = random.randint(0, size-1)\n",
        "treasure_map[treasure_index] = \"X\"\n",
        "\n",
        "\n",
        "# Fungsi untuk memulai permainan\n",
        "def play_treasure_hunt():\n",
        "  print(\"\\nHarta karun telah disembunyikan@! Sekarang giliran pemain menebak.\")\n",
        "  print(\"Cobalah unyuk menemukan harta karun dengan menembak indeks yang benar.\")\n",
        "\n",
        "  # Loop permainan\n",
        "  while True:\n",
        "    # Menampilkan peta tersembunyi kepada pemain\n",
        "    print(\"\\nPeta saat ini: \", [\"_\" for _ in range(size)])  # Peta tersembunyi\n",
        "\n",
        "    # Input pemain\n",
        "    try:\n",
        "      guess = int(input(f\"Masukkan indeks tebakanmu (0-(size-1)): \"))\n",
        "    except ValueError:\n",
        "      print(\"Masukkan angka yang valid!.\")\n",
        "      continue\n",
        "\n",
        "    # Validasi input\n",
        "    if guess < 0 or guess == size:\n",
        "      print(\"Indeks tidak valid, pilih antara 0 hingga\", size-1)\n",
        "      continue\n",
        "\n",
        "    # Mengecek apakah tebakan benar\n",
        "    if treasure_map[guess] == \"X\":\n",
        "      print(\"Selamat! Kamu menemukan harta jarun di lokasi:\", guess)\n",
        "      break\n",
        "    else:\n",
        "      print(\"Tidak ada harta di lpkasi ini. Coba lagi!\")\n",
        "\n",
        "  print(\"Terima kasih sudah bermain!\")\n",
        "\n",
        "# Jalankan permainan\n",
        "play_treasure_hunt()\n"
      ]
    },
    {
      "cell_type": "code",
      "source": [
        "# Ukuran peta\n",
        "size = 10\n",
        "\n",
        "# Membuat peta dengan harta karun tersembunyi\n",
        "treasure_map = [\"_\" for _ in range(size)]\n",
        "\n",
        "# Tentukan lokasi harta karun secara manual\n",
        "print(f\"Selamat datang di Treasure Hunt! Peta memiliki {size} lokasi (0 hingga {size-1}).\")\n",
        "treasure_index = int(input(f\"Masukkan lokasi harta karun (0-{size-1}): \"))\n",
        "\n",
        "while treasure_index < 0 or treasure_index >= size:\n",
        "    print(\"Lokasi tidak valid. Masukkan angka dalam rentang yang benar.\")\n",
        "    treasure_index = int(input(f\"Masukkan lokasi harta karun (0-{size-1}): \"))\n",
        "\n",
        "treasure_map[treasure_index] = \"X\"  # Menyembunyikan harta karun di lokasi yang dipilih\n",
        "\n",
        "\n",
        "# Fungsi untuk memulai permainan\n",
        "def play_treasure_hunt():\n",
        "  print(\"\\nHarta karun telah disembunyikan@! Sekarang giliran pemain menebak.\")\n",
        "  print(\"Cobalah unyuk menemukan harta karun dengan menembak indeks yang benar.\")\n",
        "\n",
        "  # Loop permainan\n",
        "  while True:\n",
        "    # Menampilkan peta tersembunyi kepada pemain\n",
        "    print(\"\\nPeta saat ini: \", [\"_\" for _ in range(size)])  # Peta tersembunyi\n",
        "\n",
        "    # Input pemain\n",
        "    try:\n",
        "      guess = int(input(f\"Masukkan indeks tebakanmu (0-(size-1)): \"))\n",
        "    except ValueError:\n",
        "      print(\"Masukkan angka yang valid!.\")\n",
        "      continue\n",
        "\n",
        "    # Validasi input\n",
        "    if guess < 0 or guess == size:\n",
        "      print(\"Indeks tidak valid, pilih antara 0 hingga\", size-1)\n",
        "      continue\n",
        "\n",
        "    # Mengecek apakah tebakan benar\n",
        "    if treasure_map[guess] == \"X\":\n",
        "      print(\"Selamat! Kamu menemukan harta jarun di lokasi:\", guess)\n",
        "      break\n",
        "    else:\n",
        "      print(\"Tidak ada harta di lpkasi ini. Coba lagi!\")\n",
        "\n",
        "  print(\"Terima kasih sudah bermain!\")\n",
        "\n",
        "# Jalankan permainan\n",
        "play_treasure_hunt()\n"
      ],
      "metadata": {
        "colab": {
          "base_uri": "https://localhost:8080/"
        },
        "id": "LaQTM9uOGvkK",
        "outputId": "d31d33be-bba9-4752-b748-a0f2c9d1b36c"
      },
      "execution_count": 11,
      "outputs": [
        {
          "output_type": "stream",
          "name": "stdout",
          "text": [
            "Selamat datang di Treasure Hunt! Peta memiliki 10 lokasi (0 hingga 9).\n",
            "Masukkan lokasi harta karun (0-9): 10\n",
            "Lokasi tidak valid. Masukkan angka dalam rentang yang benar.\n",
            "Masukkan lokasi harta karun (0-9): 3\n",
            "\n",
            "Harta karun telah disembunyikan@! Sekarang giliran pemain menebak.\n",
            "Cobalah unyuk menemukan harta karun dengan menembak indeks yang benar.\n",
            "\n",
            "Peta saat ini:  ['_', '_', '_', '_', '_', '_', '_', '_', '_', '_']\n",
            "Masukkan indeks tebakanmu (0-(size-1)): 8\n",
            "Tidak ada harta di lpkasi ini. Coba lagi!\n",
            "\n",
            "Peta saat ini:  ['_', '_', '_', '_', '_', '_', '_', '_', '_', '_']\n",
            "Masukkan indeks tebakanmu (0-(size-1)): 8\n",
            "Tidak ada harta di lpkasi ini. Coba lagi!\n",
            "\n",
            "Peta saat ini:  ['_', '_', '_', '_', '_', '_', '_', '_', '_', '_']\n",
            "Masukkan indeks tebakanmu (0-(size-1)): 3\n",
            "Selamat! Kamu menemukan harta jarun di lokasi: 3\n",
            "Terima kasih sudah bermain!\n"
          ]
        }
      ]
    }
  ]
}